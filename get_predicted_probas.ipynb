{
 "cells": [
  {
   "cell_type": "code",
   "execution_count": 1,
   "id": "6e9e5cda",
   "metadata": {},
   "outputs": [],
   "source": [
    "import json\n",
    "import numpy as np\n",
    "from os.path import isfile\n",
    "from tools import *\n",
    "from dataset import Dataset\n",
    "from config import Config\n",
    "from recording import Recording\n",
    "from analyzer import Analyzer\n",
    "import pickle"
   ]
  },
  {
   "cell_type": "markdown",
   "metadata": {},
   "source": [
    "### UC1: PRUEBA 1"
   ]
  },
  {
   "cell_type": "code",
   "execution_count": 7,
   "metadata": {},
   "outputs": [
    {
     "name": "stdout",
     "output_type": "stream",
     "text": [
      "Welcome to this automatic analysis architecture\n",
      "Copyright: Marielle MALFANTE - GIPSA-Lab\n",
      "Univ. Grenoble Alpes, CNRS, Grenoble INP, GIPSA-lab, 38000 Grenoble, France\n",
      "\n",
      " *** PROJECT CONFIGURATION prueba1 ***  \n",
      "Configuration object from <path> /home/karina/AAA-master/config/general/newsettings_UC1_prueba1.json, <configuration_number> prueba1,\n",
      " <general> {'project_root': '/home/karina/AAA-master/', 'analysis_type': 'continuous', 'path_to_specific_settings_file': 'config/specific/usecase1_continuous_classification/usecase1_PRUEBA1.json', 'path_to_res': 'res/', 'path_to_visuals': 'fig/', 'path_to_res_to_review': 'res_to_review/'},\n",
      " <application> {'name': 'UC1_PRUEBAS'},\n",
      " <preprocessing> {'energy_norm': True},\n",
      " <learning> {'algo': RandomForestClassifier(bootstrap=False, class_weight=None,\n",
      "            criterion='entropy', max_depth=None, max_features='auto',\n",
      "            max_leaf_nodes=None, min_impurity_split=1e-07,\n",
      "            min_samples_leaf=1, min_samples_split=2,\n",
      "            min_weight_fraction_leaf=0.0, n_estimators=200, n_jobs=1,\n",
      "            oob_score=False, random_state=None, verbose=0,\n",
      "            warm_start=False), 'cv': StratifiedShuffleSplit(n_splits=10, random_state=None, test_size=0.2,\n",
      "            train_size=0.8), 'path_to_catalogue': '/data/shaped/catalogue.pd'},\n",
      " <features> {'path_to_config': 'config/specific/features/features_01.json', 'computation_domains': 'time spectral cepstral', 'thresholding': True, 'thresholds': [0.6, 0.6, 0.6, 0.6, 0.6, 0.6]},\n",
      " <data_to_analyze> {'path_to_data': '/home/karina/AAA-master/UC1_PRUEBAS/data/raw/test_data/', 'data_files': '*.sac', 'reading_function': <function read_ubinas at 0x7f7f2ed30048>, 'reading_arguments': {}, 'fs': 100},\n",
      " <analysis> {'n_window': 1, 'window_length': 70, 'delta': 3500, 'bandwidth': {'f_min': [0.3], 'f_max': [25]}, 'butter_order': 4, 'spectro_window_size': 10417, 'f_max': 50, 'nBands': 1}\n",
      "\n"
     ]
    }
   ],
   "source": [
    "setting_file_path = '/home/karina/AAA-master/config/general/newsettings_UC1_prueba1.json'\n",
    "config = Config(setting_file_path, verbatim=1)\n",
    "config.readAndCheck()"
   ]
  },
  {
   "cell_type": "code",
   "execution_count": 13,
   "metadata": {},
   "outputs": [
    {
     "name": "stdout",
     "output_type": "stream",
     "text": [
      "\n",
      "\n",
      " *** ANALYZER ***\n",
      "Analyzer has been loaded from:  /home/karina/AAA-master/UC1_PRUEBAS/res/prueba1/res/analyzer\n",
      "\n",
      "\n",
      " *** DATASET ***\n",
      "Path to file to analyze: ['/home/karina/AAA-master/UC1_PRUEBAS/data/raw/test_data/CN.PPCU.HHN.2019.309.000000.sac']\n",
      "1 files to analyze.\n",
      "\n",
      "\n",
      " *** DATASET ANALYSIS ***\n",
      "Dataset has been analyzed 472.07492303848267\n"
     ]
    }
   ],
   "source": [
    "analyzer = Analyzer(config, verbatim=1)\n",
    "analyzer.load(config)\n",
    "\n",
    "analyzedSet = Dataset(config,verbatim=1)\n",
    "analyzedSet.analyze(analyzer, config, save=True)"
   ]
  },
  {
   "cell_type": "code",
   "execution_count": 14,
   "metadata": {},
   "outputs": [
    {
     "name": "stdout",
     "output_type": "stream",
     "text": [
      "\n",
      "\n",
      " *** DATASET ANALYSIS: MAKING DECISION ON PREDICTIONS ***\n",
      "Dataset has been re-analyzed: decisions on predictions have been made 14.320398092269897\n"
     ]
    }
   ],
   "source": [
    "analyzedSet.makeDecision(config, save=True)"
   ]
  },
  {
   "cell_type": "code",
   "execution_count": 16,
   "metadata": {},
   "outputs": [],
   "source": [
    "file_path = '/home/karina/AAA-master/UC1_PRUEBAS/data/raw/test_data/CN.PPCU.HHN.2019.309.000000.sac'\n",
    "recording = Recording(file_path, config, verbatim=1)\n",
    "recording.load(config)"
   ]
  },
  {
   "cell_type": "code",
   "execution_count": 18,
   "metadata": {},
   "outputs": [],
   "source": [
    "recording.analyze(analyzer, config)"
   ]
  },
  {
   "cell_type": "code",
   "execution_count": 19,
   "metadata": {},
   "outputs": [
    {
     "data": {
      "text/plain": [
       "array([[[None, None, None, None, None, None],\n",
       "        [None, None, None, None, None, None],\n",
       "        [None, None, None, None, None, None],\n",
       "        ..., \n",
       "        [None, None, None, None, None, None],\n",
       "        [None, None, None, None, None, None],\n",
       "        [None, None, None, None, None, None]]], dtype=object)"
      ]
     },
     "execution_count": 19,
     "metadata": {},
     "output_type": "execute_result"
    }
   ],
   "source": [
    "recording.predictedProbas"
   ]
  },
  {
   "cell_type": "code",
   "execution_count": null,
   "metadata": {},
   "outputs": [],
   "source": []
  },
  {
   "cell_type": "code",
   "execution_count": null,
   "metadata": {},
   "outputs": [],
   "source": []
  },
  {
   "cell_type": "code",
   "execution_count": null,
   "metadata": {},
   "outputs": [],
   "source": []
  },
  {
   "cell_type": "code",
   "execution_count": null,
   "metadata": {},
   "outputs": [],
   "source": []
  },
  {
   "cell_type": "code",
   "execution_count": 20,
   "metadata": {},
   "outputs": [
    {
     "data": {
      "text/plain": [
       "array([[[None, None, None, None, None, None],\n",
       "        [None, None, None, None, None, None],\n",
       "        [None, None, None, None, None, None],\n",
       "        ..., \n",
       "        [None, None, None, None, None, None],\n",
       "        [None, None, None, None, None, None],\n",
       "        [None, None, None, None, None, None]]], dtype=object)"
      ]
     },
     "execution_count": 20,
     "metadata": {},
     "output_type": "execute_result"
    }
   ],
   "source": [
    "path = '/home/karina/AAA-master/UC1_PRUEBAS/res/prueba1/CN.PPCU.HHN.2019.309.000000.sac__RES.np'\n",
    "pp = pickle.load(open(path,'rb'))\n",
    "\n",
    "pp"
   ]
  },
  {
   "cell_type": "code",
   "execution_count": null,
   "metadata": {},
   "outputs": [],
   "source": [
    "np.uni"
   ]
  }
 ],
 "metadata": {
  "kernelspec": {
   "display_name": "Python 3",
   "language": "python",
   "name": "python3"
  },
  "language_info": {
   "codemirror_mode": {
    "name": "ipython",
    "version": 3
   },
   "file_extension": ".py",
   "mimetype": "text/x-python",
   "name": "python",
   "nbconvert_exporter": "python",
   "pygments_lexer": "ipython3",
   "version": "3.6.10"
  },
  "toc": {
   "base_numbering": 1,
   "nav_menu": {},
   "number_sections": true,
   "sideBar": true,
   "skip_h1_title": false,
   "title_cell": "Table of Contents",
   "title_sidebar": "Contents",
   "toc_cell": false,
   "toc_position": {},
   "toc_section_display": true,
   "toc_window_display": false
  },
  "varInspector": {
   "cols": {
    "lenName": 16,
    "lenType": 16,
    "lenVar": 40
   },
   "kernels_config": {
    "python": {
     "delete_cmd_postfix": "",
     "delete_cmd_prefix": "del ",
     "library": "var_list.py",
     "varRefreshCmd": "print(var_dic_list())"
    },
    "r": {
     "delete_cmd_postfix": ") ",
     "delete_cmd_prefix": "rm(",
     "library": "var_list.r",
     "varRefreshCmd": "cat(var_dic_list()) "
    }
   },
   "types_to_exclude": [
    "module",
    "function",
    "builtin_function_or_method",
    "instance",
    "_Feature"
   ],
   "window_display": false
  }
 },
 "nbformat": 4,
 "nbformat_minor": 5
}
